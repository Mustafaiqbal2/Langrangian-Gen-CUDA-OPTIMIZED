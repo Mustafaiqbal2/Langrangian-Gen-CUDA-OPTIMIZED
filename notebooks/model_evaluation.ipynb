{
 "cells": [
  {
   "cell_type": "markdown",
   "metadata": {},
   "source": [
    "# Model Evaluation\n",
    "\n",
    "This notebook is used for evaluating the trained model, analyzing its performance, and visualizing the results."
   ]
  },
  {
   "cell_type": "code",
   "execution_count": null,
   "metadata": {
    "collapsed": false
   },
   "outputs": [],
   "source": [
    "import json\n",
    "import numpy as np\n",
    "import matplotlib.pyplot as plt\n",
    "from src.evaluation.metrics import calculate_accuracy\n",
    "from src.evaluation.visualize import plot_results\n",
    "from src.models.transformer import TransformerModel\n",
    "from src.data.dataset import Dataset\n",
    "\n",
    "# Load the tokenized dataset\n",
    "with open('../data/processed/tokenized_equations.json') as f:\n",
    "    tokenized_data = json.load(f)\n",
    "\n",
    "# Initialize the dataset and model\n",
    "dataset = Dataset(tokenized_data)\n",
    "model = TransformerModel()  # Load your trained model here\n",
    "\n",
    "# Evaluate the model\n",
    "predictions = model.predict(dataset.test_data)\n",
    "accuracy = calculate_accuracy(predictions, dataset.test_labels)\n",
    "\n",
    "# Print the accuracy\n",
    "print(f\"Model Accuracy: {accuracy * 100:.2f}%\")\n",
    "\n",
    "# Visualize the results\n",
    "plot_results(predictions, dataset.test_labels)\n"
   ]
  }
 ],
 "metadata": {
  "kernelspec": {
   "display_name": "Python 3",
   "language": "python",
   "name": "python3"
  },
  "language_info": {
   "codemirror_mode": {
    "name": "ipython",
    "version": 3
   },
   "file_extension": ".py",
   "mimetype": "text/x-python",
   "name": "python",
   "nbconvert_exporter": "python",
   "pygments_lexer": "ipython3",
   "version": "3.8.5"
  }
 },
 "nbformat": 4,
 "nbformat_minor": 4
}