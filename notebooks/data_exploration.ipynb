{
 "cells": [
  {
   "cell_type": "markdown",
   "metadata": {},
   "source": [
    "# Data Exploration\n",
    "\n",
    "In this notebook, we will explore the dataset of physics equations, visualize the equations, and understand the data distribution."
   ]
  },
  {
   "cell_type": "code",
   "execution_count": null,
   "metadata": {
    "collapsed": false
   },
   "outputs": [],
   "source": [
    "import json\n",
    "import pandas as pd\n",
    "import matplotlib.pyplot as plt\n",
    "\n",
    "# Load the raw dataset\n",
    "with open('../data/raw/physics_equations.json', 'r') as f:\n",
    "    raw_data = json.load(f)\n",
    "\n",
    "# Convert to DataFrame for easier exploration\n",
    "df = pd.DataFrame(raw_data)\n",
    "\n",
    "# Display the first few rows of the dataset\n",
    "df.head()"
   ]
  },
  {
   "cell_type": "code",
   "execution_count": null,
   "metadata": {
    "collapsed": false
   },
   "outputs": [],
   "source": [
    "# Visualize the distribution of equation types\n",
    "plt.figure(figsize=(10, 6))\n",
    "df['type'].value_counts().plot(kind='bar')\n",
    "plt.title('Distribution of Equation Types')\n",
    "plt.xlabel('Equation Type')\n",
    "plt.ylabel('Count')\n",
    "plt.xticks(rotation=45)\n",
    "plt.show()"
   ]
  },
  {
   "cell_type": "code",
   "execution_count": null,
   "metadata": {
    "collapsed": false
   },
   "outputs": [],
   "source": [
    "# Example of a specific equation\n",
    "example_equation = df.iloc[0]\n",
    "print(f\"Equation: {example_equation['equation']}\\nContext: {example_equation['context']}\")"
   ]
  },
  {
   "cell_type": "markdown",
   "metadata": {},
   "source": [
    "## Summary\n",
    "\n",
    "In this notebook, we have loaded the dataset, visualized the distribution of equation types, and displayed an example equation. This exploration helps us understand the dataset better and prepares us for further analysis and model training."
   ]
  }
 ],
 "metadata": {
  "kernelspec": {
   "display_name": "Python 3",
   "language": "python",
   "name": "python3"
  },
  "language_info": {
   "codemirror_mode": {
    "name": "ipython",
    "version": 3
   },
   "file_extension": ".py",
   "mimetype": "text/x-python",
   "name": "python",
   "nbconvert_exporter": "python",
   "pygments_lexer": "ipython3",
   "version": "3.8.5"
  }
 },
 "nbformat": 4,
 "nbformat_minor": 4
}